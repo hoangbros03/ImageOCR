{
 "cells": [
  {
   "cell_type": "code",
   "execution_count": 1,
   "id": "38726e0c",
   "metadata": {},
   "outputs": [
    {
     "name": "stdout",
     "output_type": "stream",
     "text": [
      "Looking in indexes: https://pypi.tuna.tsinghua.edu.cn/simple\n",
      "Collecting paddlepaddle\n",
      "  Downloading https://pypi.tuna.tsinghua.edu.cn/packages/94/d6/4b1aca2fcc37a674968ac309dec9911d37966f72f11408a5715b9a266498/paddlepaddle-2.4.2-cp39-cp39-win_amd64.whl (68.6 MB)\n",
      "Requirement already satisfied: six in c:\\users\\hoang\\miniconda3\\lib\\site-packages (from paddlepaddle) (1.16.0)\n",
      "Requirement already satisfied: requests>=2.20.0 in c:\\users\\hoang\\miniconda3\\lib\\site-packages (from paddlepaddle) (2.27.1)\n",
      "Requirement already satisfied: numpy>=1.13 in c:\\users\\hoang\\miniconda3\\lib\\site-packages (from paddlepaddle) (1.23.4)\n",
      "Collecting astor\n",
      "  Downloading https://pypi.tuna.tsinghua.edu.cn/packages/c3/88/97eef84f48fa04fbd6750e62dcceafba6c63c81b7ac1420856c8dcc0a3f9/astor-0.8.1-py2.py3-none-any.whl (27 kB)\n",
      "Collecting opt-einsum==3.3.0\n",
      "  Downloading https://pypi.tuna.tsinghua.edu.cn/packages/bc/19/404708a7e54ad2798907210462fd950c3442ea51acc8790f3da48d2bee8b/opt_einsum-3.3.0-py3-none-any.whl (65 kB)\n",
      "Collecting protobuf<=3.20.0,>=3.1.0\n",
      "  Downloading https://pypi.tuna.tsinghua.edu.cn/packages/07/96/a3cae1ce36af23dc0df53ce36ae4cd0be677d243dbd4f98b9b52f4c91a32/protobuf-3.20.0-cp39-cp39-win_amd64.whl (904 kB)\n",
      "Collecting paddle-bfloat==0.1.7\n",
      "  Downloading https://pypi.tuna.tsinghua.edu.cn/packages/49/56/0daf8b1dde01482f74e18ca7ef2a6fb1485b7479e1cee991d0e7d10ba2df/paddle_bfloat-0.1.7-cp39-cp39-win_amd64.whl (39 kB)\n",
      "Requirement already satisfied: Pillow in c:\\users\\hoang\\miniconda3\\lib\\site-packages (from paddlepaddle) (9.4.0)\n",
      "Requirement already satisfied: decorator in c:\\users\\hoang\\miniconda3\\lib\\site-packages (from paddlepaddle) (5.1.1)\n",
      "Requirement already satisfied: idna<4,>=2.5 in c:\\users\\hoang\\miniconda3\\lib\\site-packages (from requests>=2.20.0->paddlepaddle) (3.3)\n",
      "Requirement already satisfied: urllib3<1.27,>=1.21.1 in c:\\users\\hoang\\miniconda3\\lib\\site-packages (from requests>=2.20.0->paddlepaddle) (1.26.8)\n",
      "Requirement already satisfied: charset-normalizer~=2.0.0 in c:\\users\\hoang\\miniconda3\\lib\\site-packages (from requests>=2.20.0->paddlepaddle) (2.0.4)\n",
      "Requirement already satisfied: certifi>=2017.4.17 in c:\\users\\hoang\\miniconda3\\lib\\site-packages (from requests>=2.20.0->paddlepaddle) (2023.5.7)\n",
      "Installing collected packages: protobuf, paddle-bfloat, opt-einsum, astor, paddlepaddle\n",
      "  Attempting uninstall: protobuf\n",
      "    Found existing installation: protobuf 3.20.3\n",
      "    Uninstalling protobuf-3.20.3:\n",
      "      Successfully uninstalled protobuf-3.20.3\n",
      "Successfully installed astor-0.8.1 opt-einsum-3.3.0 paddle-bfloat-0.1.7 paddlepaddle-2.4.2 protobuf-3.20.0\n"
     ]
    }
   ],
   "source": [
    "# Install paddle\n",
    "!python -m pip install paddlepaddle -i https://pypi.tuna.tsinghua.edu.cn/simple\n"
   ]
  },
  {
   "cell_type": "code",
   "execution_count": 2,
   "id": "20e3bd5f",
   "metadata": {},
   "outputs": [
    {
     "name": "stdout",
     "output_type": "stream",
     "text": [
      "Collecting paddleocr>=2.0.1\n",
      "  Downloading paddleocr-2.6.1.3-py3-none-any.whl (445 kB)\n",
      "Collecting fire>=0.3.0\n",
      "  Downloading fire-0.5.0.tar.gz (88 kB)\n",
      "Collecting PyMuPDF<1.21.0\n",
      "  Downloading PyMuPDF-1.20.2-cp39-cp39-win_amd64.whl (6.6 MB)\n",
      "Collecting opencv-python<=4.6.0.66\n",
      "  Downloading opencv_python-4.6.0.66-cp36-abi3-win_amd64.whl (35.6 MB)\n",
      "Collecting attrdict\n",
      "  Downloading attrdict-2.0.1-py2.py3-none-any.whl (9.9 kB)\n",
      "Collecting openpyxl\n",
      "  Downloading openpyxl-3.1.2-py2.py3-none-any.whl (249 kB)\n",
      "Collecting pdf2docx\n",
      "  Downloading pdf2docx-0.5.6-py3-none-any.whl (148 kB)\n",
      "Requirement already satisfied: fonttools>=4.24.0 in c:\\users\\hoang\\miniconda3\\lib\\site-packages (from paddleocr>=2.0.1) (4.38.0)\n",
      "Collecting opencv-contrib-python<=4.6.0.66\n",
      "  Downloading opencv_contrib_python-4.6.0.66-cp36-abi3-win_amd64.whl (42.5 MB)\n",
      "Collecting premailer\n",
      "  Downloading premailer-3.10.0-py2.py3-none-any.whl (19 kB)\n",
      "Collecting rapidfuzz\n",
      "  Downloading rapidfuzz-3.0.0-cp39-cp39-win_amd64.whl (1.8 MB)\n",
      "Requirement already satisfied: tqdm in c:\\users\\hoang\\miniconda3\\lib\\site-packages (from paddleocr>=2.0.1) (4.63.0)\n",
      "Collecting shapely\n",
      "  Downloading shapely-2.0.1-cp39-cp39-win_amd64.whl (1.4 MB)\n",
      "Collecting pyclipper\n",
      "  Downloading pyclipper-1.3.0.post4-cp39-cp39-win_amd64.whl (95 kB)\n",
      "Requirement already satisfied: numpy in c:\\users\\hoang\\miniconda3\\lib\\site-packages (from paddleocr>=2.0.1) (1.23.4)\n",
      "Collecting imgaug\n",
      "  Downloading imgaug-0.4.0-py2.py3-none-any.whl (948 kB)\n",
      "Collecting visualdl\n",
      "  Downloading visualdl-2.5.2-py3-none-any.whl (6.3 MB)\n",
      "Requirement already satisfied: lxml in c:\\users\\hoang\\miniconda3\\lib\\site-packages (from paddleocr>=2.0.1) (4.9.1)\n",
      "Collecting scikit-image\n",
      "  Downloading scikit_image-0.20.0-cp39-cp39-win_amd64.whl (23.9 MB)\n",
      "Requirement already satisfied: beautifulsoup4 in c:\\users\\hoang\\miniconda3\\lib\\site-packages (from paddleocr>=2.0.1) (4.11.1)\n",
      "Collecting python-docx\n",
      "  Downloading python-docx-0.8.11.tar.gz (5.6 MB)\n",
      "Collecting cython\n",
      "  Downloading Cython-0.29.34-py2.py3-none-any.whl (988 kB)\n",
      "Collecting lmdb\n",
      "  Downloading lmdb-1.4.1-cp39-cp39-win_amd64.whl (105 kB)\n",
      "Requirement already satisfied: six in c:\\users\\hoang\\miniconda3\\lib\\site-packages (from fire>=0.3.0->paddleocr>=2.0.1) (1.16.0)\n",
      "Collecting termcolor\n",
      "  Downloading termcolor-2.3.0-py3-none-any.whl (6.9 kB)\n",
      "Requirement already satisfied: soupsieve>1.2 in c:\\users\\hoang\\miniconda3\\lib\\site-packages (from beautifulsoup4->paddleocr>=2.0.1) (2.3.2.post1)\n",
      "Requirement already satisfied: matplotlib in c:\\users\\hoang\\miniconda3\\lib\\site-packages (from imgaug->paddleocr>=2.0.1) (3.7.0)\n",
      "Requirement already satisfied: imageio in c:\\users\\hoang\\miniconda3\\lib\\site-packages (from imgaug->paddleocr>=2.0.1) (2.26.0)\n",
      "Requirement already satisfied: scipy in c:\\users\\hoang\\miniconda3\\lib\\site-packages (from imgaug->paddleocr>=2.0.1) (1.9.3)\n",
      "Requirement already satisfied: Pillow in c:\\users\\hoang\\miniconda3\\lib\\site-packages (from imgaug->paddleocr>=2.0.1) (9.4.0)\n",
      "Collecting tifffile>=2019.7.26\n",
      "  Downloading tifffile-2023.4.12-py3-none-any.whl (219 kB)\n",
      "Collecting lazy_loader>=0.1\n",
      "  Downloading lazy_loader-0.2-py3-none-any.whl (8.6 kB)\n",
      "Requirement already satisfied: networkx>=2.8 in c:\\users\\hoang\\miniconda3\\lib\\site-packages (from scikit-image->paddleocr>=2.0.1) (2.8.4)\n",
      "Collecting scipy\n",
      "  Downloading scipy-1.9.1-cp39-cp39-win_amd64.whl (38.6 MB)\n",
      "Requirement already satisfied: packaging>=20.0 in c:\\users\\hoang\\miniconda3\\lib\\site-packages (from scikit-image->paddleocr>=2.0.1) (21.3)\n",
      "Collecting PyWavelets>=1.1.1\n",
      "  Downloading PyWavelets-1.4.1-cp39-cp39-win_amd64.whl (4.2 MB)\n",
      "Requirement already satisfied: pyparsing!=3.0.5,>=2.0.2 in c:\\users\\hoang\\miniconda3\\lib\\site-packages (from packaging>=20.0->scikit-image->paddleocr>=2.0.1) (3.0.9)\n",
      "Requirement already satisfied: cycler>=0.10 in c:\\users\\hoang\\miniconda3\\lib\\site-packages (from matplotlib->imgaug->paddleocr>=2.0.1) (0.11.0)\n",
      "Requirement already satisfied: contourpy>=1.0.1 in c:\\users\\hoang\\miniconda3\\lib\\site-packages (from matplotlib->imgaug->paddleocr>=2.0.1) (1.0.7)\n",
      "Requirement already satisfied: kiwisolver>=1.0.1 in c:\\users\\hoang\\miniconda3\\lib\\site-packages (from matplotlib->imgaug->paddleocr>=2.0.1) (1.4.4)\n",
      "Requirement already satisfied: importlib-resources>=3.2.0 in c:\\users\\hoang\\miniconda3\\lib\\site-packages (from matplotlib->imgaug->paddleocr>=2.0.1) (5.12.0)\n",
      "Requirement already satisfied: python-dateutil>=2.7 in c:\\users\\hoang\\miniconda3\\lib\\site-packages (from matplotlib->imgaug->paddleocr>=2.0.1) (2.8.2)\n",
      "Requirement already satisfied: zipp>=3.1.0 in c:\\users\\hoang\\miniconda3\\lib\\site-packages (from importlib-resources>=3.2.0->matplotlib->imgaug->paddleocr>=2.0.1) (3.15.0)\n",
      "Collecting et-xmlfile\n",
      "  Downloading et_xmlfile-1.1.0-py3-none-any.whl (4.7 kB)\n",
      "Collecting cssutils\n",
      "  Downloading cssutils-2.6.0-py3-none-any.whl (399 kB)\n",
      "Collecting cssselect\n",
      "  Downloading cssselect-1.2.0-py2.py3-none-any.whl (18 kB)\n",
      "Requirement already satisfied: requests in c:\\users\\hoang\\miniconda3\\lib\\site-packages (from premailer->paddleocr>=2.0.1) (2.27.1)\n",
      "Collecting cachetools\n",
      "  Downloading cachetools-5.3.0-py3-none-any.whl (9.3 kB)\n",
      "Requirement already satisfied: idna<4,>=2.5 in c:\\users\\hoang\\miniconda3\\lib\\site-packages (from requests->premailer->paddleocr>=2.0.1) (3.3)\n",
      "Requirement already satisfied: urllib3<1.27,>=1.21.1 in c:\\users\\hoang\\miniconda3\\lib\\site-packages (from requests->premailer->paddleocr>=2.0.1) (1.26.8)\n",
      "Requirement already satisfied: certifi>=2017.4.17 in c:\\users\\hoang\\miniconda3\\lib\\site-packages (from requests->premailer->paddleocr>=2.0.1) (2023.5.7)\n",
      "Requirement already satisfied: charset-normalizer~=2.0.0 in c:\\users\\hoang\\miniconda3\\lib\\site-packages (from requests->premailer->paddleocr>=2.0.1) (2.0.4)\n",
      "Requirement already satisfied: colorama in c:\\users\\hoang\\miniconda3\\lib\\site-packages (from tqdm->paddleocr>=2.0.1) (0.4.4)\n",
      "Collecting Flask-Babel>=3.0.0\n",
      "  Downloading flask_babel-3.1.0-py3-none-any.whl (9.6 kB)\n",
      "Requirement already satisfied: protobuf>=3.20.0 in c:\\users\\hoang\\miniconda3\\lib\\site-packages (from visualdl->paddleocr>=2.0.1) (3.20.0)\n",
      "Requirement already satisfied: psutil in c:\\users\\hoang\\miniconda3\\lib\\site-packages (from visualdl->paddleocr>=2.0.1) (5.9.4)\n",
      "Requirement already satisfied: flask>=1.1.1 in c:\\users\\hoang\\miniconda3\\lib\\site-packages (from visualdl->paddleocr>=2.0.1) (2.2.2)\n",
      "Collecting gradio==3.11.0\n",
      "  Downloading gradio-3.11.0-py3-none-any.whl (11.6 MB)\n",
      "Requirement already satisfied: pandas in c:\\users\\hoang\\miniconda3\\lib\\site-packages (from visualdl->paddleocr>=2.0.1) (1.5.1)\n",
      "Collecting tritonclient[all]\n",
      "  Downloading tritonclient-2.33.0-py3-none-any.whl (67 kB)\n",
      "Collecting onnx>=1.6.0\n",
      "  Downloading onnx-1.14.0-cp39-cp39-win_amd64.whl (13.3 MB)\n",
      "Collecting bce-python-sdk\n",
      "  Downloading bce_python_sdk-0.8.83-py3-none-any.whl (210 kB)\n",
      "Collecting x2paddle>=1.4.0\n",
      "  Downloading x2paddle-1.4.1-py3-none-any.whl (316 kB)\n",
      "Collecting paddle2onnx>=1.0.5\n",
      "  Downloading paddle2onnx-1.0.6-cp39-cp39-win_amd64.whl (1.7 MB)\n",
      "Collecting rarfile\n",
      "  Downloading rarfile-4.0-py3-none-any.whl (28 kB)\n",
      "Collecting orjson\n",
      "  Downloading orjson-3.8.13-cp39-none-win_amd64.whl (190 kB)\n",
      "Collecting pydantic\n",
      "  Downloading pydantic-1.10.8-cp39-cp39-win_amd64.whl (2.2 MB)\n",
      "Collecting python-multipart\n",
      "  Downloading python_multipart-0.0.6-py3-none-any.whl (45 kB)\n",
      "Collecting fastapi\n",
      "  Downloading fastapi-0.95.2-py3-none-any.whl (56 kB)\n",
      "Requirement already satisfied: jinja2 in c:\\users\\hoang\\miniconda3\\lib\\site-packages (from gradio==3.11.0->visualdl->paddleocr>=2.0.1) (3.1.2)\n",
      "Collecting aiohttp\n",
      "  Downloading aiohttp-3.8.4-cp39-cp39-win_amd64.whl (323 kB)\n",
      "Collecting websockets>=10.0\n",
      "  Downloading websockets-11.0.3-cp39-cp39-win_amd64.whl (124 kB)\n",
      "Collecting pydub\n",
      "  Using cached pydub-0.25.1-py2.py3-none-any.whl (32 kB)\n",
      "Collecting markdown-it-py[linkify,plugins]\n",
      "  Downloading markdown_it_py-2.2.0-py3-none-any.whl (84 kB)\n",
      "Requirement already satisfied: pyyaml in c:\\users\\hoang\\miniconda3\\lib\\site-packages (from gradio==3.11.0->visualdl->paddleocr>=2.0.1) (6.0)\n",
      "Collecting uvicorn\n",
      "  Downloading uvicorn-0.22.0-py3-none-any.whl (58 kB)\n",
      "Collecting paramiko\n",
      "  Downloading paramiko-3.1.0-py3-none-any.whl (211 kB)\n",
      "Collecting ffmpy\n",
      "  Downloading ffmpy-0.3.0.tar.gz (4.8 kB)\n",
      "Collecting fsspec\n",
      "  Downloading fsspec-2023.5.0-py3-none-any.whl (160 kB)\n",
      "Collecting h11<0.13,>=0.11\n",
      "  Downloading h11-0.12.0-py3-none-any.whl (54 kB)\n",
      "Collecting pycryptodome\n",
      "  Downloading pycryptodome-3.18.0-cp35-abi3-win_amd64.whl (1.7 MB)\n",
      "Collecting httpx\n",
      "  Downloading httpx-0.24.1-py3-none-any.whl (75 kB)\n",
      "Requirement already satisfied: Werkzeug>=2.2.2 in c:\\users\\hoang\\miniconda3\\lib\\site-packages (from flask>=1.1.1->visualdl->paddleocr>=2.0.1) (2.2.3)\n",
      "Requirement already satisfied: click>=8.0 in c:\\users\\hoang\\miniconda3\\lib\\site-packages (from flask>=1.1.1->visualdl->paddleocr>=2.0.1) (8.1.3)\n",
      "Requirement already satisfied: itsdangerous>=2.0 in c:\\users\\hoang\\miniconda3\\lib\\site-packages (from flask>=1.1.1->visualdl->paddleocr>=2.0.1) (2.0.1)\n",
      "Requirement already satisfied: importlib-metadata>=3.6.0 in c:\\users\\hoang\\miniconda3\\lib\\site-packages (from flask>=1.1.1->visualdl->paddleocr>=2.0.1) (6.0.0)\n",
      "Collecting Babel>=2.12\n",
      "  Downloading Babel-2.12.1-py3-none-any.whl (10.1 MB)\n",
      "Collecting pytz>=2022.7\n",
      "  Downloading pytz-2023.3-py2.py3-none-any.whl (502 kB)\n",
      "Requirement already satisfied: MarkupSafe>=2.0 in c:\\users\\hoang\\miniconda3\\lib\\site-packages (from jinja2->gradio==3.11.0->visualdl->paddleocr>=2.0.1) (2.1.1)\n",
      "Requirement already satisfied: typing-extensions>=3.6.2.1 in c:\\users\\hoang\\miniconda3\\lib\\site-packages (from onnx>=1.6.0->visualdl->paddleocr>=2.0.1) (4.4.0)\n",
      "Collecting protobuf>=3.20.0\n",
      "  Downloading protobuf-4.23.1-cp39-cp39-win_amd64.whl (422 kB)\n",
      "Requirement already satisfied: sympy in c:\\users\\hoang\\miniconda3\\lib\\site-packages (from x2paddle>=1.4.0->visualdl->paddleocr>=2.0.1) (1.12)\n",
      "Collecting aiosignal>=1.1.2\n",
      "  Downloading aiosignal-1.3.1-py3-none-any.whl (7.6 kB)\n",
      "Collecting yarl<2.0,>=1.0\n",
      "  Downloading yarl-1.9.2-cp39-cp39-win_amd64.whl (61 kB)\n",
      "Collecting multidict<7.0,>=4.5\n",
      "  Downloading multidict-6.0.4-cp39-cp39-win_amd64.whl (28 kB)\n",
      "Collecting frozenlist>=1.1.1\n",
      "  Downloading frozenlist-1.3.3-cp39-cp39-win_amd64.whl (34 kB)\n",
      "Collecting async-timeout<5.0,>=4.0.0a3\n",
      "  Downloading async_timeout-4.0.2-py3-none-any.whl (5.8 kB)\n",
      "Requirement already satisfied: attrs>=17.3.0 in c:\\users\\hoang\\miniconda3\\lib\\site-packages (from aiohttp->gradio==3.11.0->visualdl->paddleocr>=2.0.1) (22.1.0)\n",
      "Collecting future>=0.6.0\n",
      "  Downloading future-0.18.3.tar.gz (840 kB)\n",
      "Collecting starlette<0.28.0,>=0.27.0\n",
      "  Downloading starlette-0.27.0-py3-none-any.whl (66 kB)\n",
      "Requirement already satisfied: anyio<5,>=3.4.0 in c:\\users\\hoang\\miniconda3\\lib\\site-packages (from starlette<0.28.0,>=0.27.0->fastapi->gradio==3.11.0->visualdl->paddleocr>=2.0.1) (3.5.0)\n",
      "Requirement already satisfied: sniffio>=1.1 in c:\\users\\hoang\\miniconda3\\lib\\site-packages (from anyio<5,>=3.4.0->starlette<0.28.0,>=0.27.0->fastapi->gradio==3.11.0->visualdl->paddleocr>=2.0.1) (1.2.0)\n",
      "Collecting httpcore<0.18.0,>=0.15.0\n",
      "  Downloading httpcore-0.17.2-py3-none-any.whl (72 kB)\n",
      "  Downloading httpcore-0.17.1-py3-none-any.whl (70 kB)\n",
      "  Downloading httpcore-0.17.0-py3-none-any.whl (70 kB)\n",
      "  Downloading httpcore-0.16.3-py3-none-any.whl (69 kB)\n",
      "  Downloading httpcore-0.16.2-py3-none-any.whl (68 kB)\n",
      "  Downloading httpcore-0.16.1-py3-none-any.whl (68 kB)\n",
      "  Downloading httpcore-0.16.0-py3-none-any.whl (68 kB)\n",
      "  Downloading httpcore-0.15.0-py3-none-any.whl (68 kB)\n",
      "Collecting mdurl~=0.1\n",
      "  Downloading mdurl-0.1.2-py3-none-any.whl (10.0 kB)\n",
      "Collecting mdit-py-plugins\n",
      "  Downloading mdit_py_plugins-0.3.5-py3-none-any.whl (52 kB)\n",
      "Collecting linkify-it-py<3,>=1\n",
      "  Downloading linkify_it_py-2.0.2-py3-none-any.whl (19 kB)\n",
      "Collecting uc-micro-py\n",
      "  Downloading uc_micro_py-1.0.2-py3-none-any.whl (6.2 kB)\n",
      "Requirement already satisfied: cryptography>=3.3 in c:\\users\\hoang\\miniconda3\\lib\\site-packages (from paramiko->gradio==3.11.0->visualdl->paddleocr>=2.0.1) (36.0.0)\n",
      "Collecting pynacl>=1.5\n",
      "  Downloading PyNaCl-1.5.0-cp36-abi3-win_amd64.whl (212 kB)\n",
      "Collecting bcrypt>=3.2\n",
      "  Downloading bcrypt-4.0.1-cp36-abi3-win_amd64.whl (152 kB)\n",
      "Requirement already satisfied: cffi>=1.12 in c:\\users\\hoang\\miniconda3\\lib\\site-packages (from cryptography>=3.3->paramiko->gradio==3.11.0->visualdl->paddleocr>=2.0.1) (1.15.0)\n",
      "Requirement already satisfied: pycparser in c:\\users\\hoang\\miniconda3\\lib\\site-packages (from cffi>=1.12->cryptography>=3.3->paramiko->gradio==3.11.0->visualdl->paddleocr>=2.0.1) (2.21)\n",
      "Requirement already satisfied: mpmath>=0.19 in c:\\users\\hoang\\miniconda3\\lib\\site-packages (from sympy->x2paddle>=1.4.0->visualdl->paddleocr>=2.0.1) (1.2.1)\n",
      "Collecting python-rapidjson>=0.9.1\n",
      "  Downloading python_rapidjson-1.10-cp39-cp39-win_amd64.whl (146 kB)\n",
      "Collecting grpcio>=1.41.0\n",
      "  Downloading grpcio-1.54.2-cp39-cp39-win_amd64.whl (4.1 MB)\n",
      "Collecting geventhttpclient<=2.0.2,>=1.4.4\n",
      "  Downloading geventhttpclient-2.0.2-cp39-cp39-win_amd64.whl (38 kB)\n",
      "Collecting protobuf>=3.20.0\n",
      "  Downloading protobuf-3.20.3-cp39-cp39-win_amd64.whl (904 kB)\n",
      "Collecting gevent>=0.13\n",
      "  Downloading gevent-22.10.2-cp39-cp39-win_amd64.whl (1.5 MB)\n",
      "Collecting brotli\n",
      "  Downloading Brotli-1.0.9-cp39-cp39-win_amd64.whl (383 kB)\n",
      "Collecting zope.interface\n",
      "  Downloading zope.interface-6.0-cp39-cp39-win_amd64.whl (204 kB)\n",
      "Collecting greenlet>=2.0.0\n",
      "  Downloading greenlet-2.0.2-cp39-cp39-win_amd64.whl (192 kB)\n",
      "Requirement already satisfied: setuptools in c:\\users\\hoang\\miniconda3\\lib\\site-packages (from gevent>=0.13->geventhttpclient<=2.0.2,>=1.4.4->tritonclient[all]->visualdl->paddleocr>=2.0.1) (61.2.0)\n",
      "Collecting zope.event\n",
      "  Downloading zope.event-4.6-py2.py3-none-any.whl (6.8 kB)\n",
      "Building wheels for collected packages: fire, python-docx, future, ffmpy\n",
      "  Building wheel for fire (setup.py): started\n",
      "  Building wheel for fire (setup.py): finished with status 'done'\n",
      "  Created wheel for fire: filename=fire-0.5.0-py2.py3-none-any.whl size=116951 sha256=7537706524c217eefe2df6cc0df36605ca1c4f073672bfccc3ee24609273924e\n",
      "  Stored in directory: c:\\users\\hoang\\appdata\\local\\pip\\cache\\wheels\\f7\\f1\\89\\b9ea2bf8f80ec027a88fef1d354b3816b4d3d29530988972f6\n",
      "  Building wheel for python-docx (setup.py): started\n",
      "  Building wheel for python-docx (setup.py): finished with status 'done'\n",
      "  Created wheel for python-docx: filename=python_docx-0.8.11-py3-none-any.whl size=184507 sha256=57773b3ff5140278e4ac111f2876c795050efa7dd0bcdeb04fee8bbdd1c6bc59\n",
      "  Stored in directory: c:\\users\\hoang\\appdata\\local\\pip\\cache\\wheels\\83\\8b\\7c\\09ae60c42c7ba4ed2dddaf2b8b9186cb105255856d6ed3dba5\n",
      "  Building wheel for future (setup.py): started\n",
      "  Building wheel for future (setup.py): finished with status 'done'\n",
      "  Created wheel for future: filename=future-0.18.3-py3-none-any.whl size=492037 sha256=6d9fab26f7a49d33728552d0b3c2143335b2e7859b88629016c4a882fb29b5e4\n",
      "  Stored in directory: c:\\users\\hoang\\appdata\\local\\pip\\cache\\wheels\\bf\\5d\\6a\\2e53874f7ec4e2bede522385439531fafec8fafe005b5c3d1b\n",
      "  Building wheel for ffmpy (setup.py): started\n",
      "  Building wheel for ffmpy (setup.py): finished with status 'done'\n",
      "  Created wheel for ffmpy: filename=ffmpy-0.3.0-py3-none-any.whl size=4712 sha256=dfa585384a24f531ad43db621ea8202bc12bdd490320ec62d46c51290f760a33\n",
      "  Stored in directory: c:\\users\\hoang\\appdata\\local\\pip\\cache\\wheels\\91\\e2\\96\\f676aa08bfd789328c6576cd0f1fde4a3d686703bb0c247697\n",
      "Successfully built fire python-docx future ffmpy\n",
      "Installing collected packages: mdurl, zope.interface, zope.event, uc-micro-py, multidict, markdown-it-py, h11, greenlet, frozenlist, yarl, starlette, pytz, python-rapidjson, pynacl, pydantic, mdit-py-plugins, linkify-it-py, httpcore, gevent, brotli, bcrypt, async-timeout, aiosignal, websockets, uvicorn, tritonclient, tifffile, termcolor, scipy, PyWavelets, python-multipart, pydub, pycryptodome, protobuf, paramiko, orjson, lazy-loader, httpx, grpcio, geventhttpclient, future, fsspec, ffmpy, fastapi, Babel, aiohttp, x2paddle, shapely, scikit-image, rarfile, python-docx, PyMuPDF, paddle2onnx, opencv-python, onnx, gradio, Flask-Babel, fire, et-xmlfile, cssutils, cssselect, cachetools, bce-python-sdk, visualdl, rapidfuzz, pyclipper, premailer, pdf2docx, openpyxl, opencv-contrib-python, lmdb, imgaug, cython, attrdict, paddleocr\n",
      "  Attempting uninstall: pytz\n",
      "    Found existing installation: pytz 2022.1\n",
      "    Uninstalling pytz-2022.1:\n",
      "      Successfully uninstalled pytz-2022.1\n",
      "  Attempting uninstall: scipy\n",
      "    Found existing installation: scipy 1.9.3\n",
      "    Uninstalling scipy-1.9.3:\n",
      "      Successfully uninstalled scipy-1.9.3\n",
      "  Attempting uninstall: protobuf\n",
      "    Found existing installation: protobuf 3.20.0\n",
      "    Uninstalling protobuf-3.20.0:\n",
      "      Successfully uninstalled protobuf-3.20.0\n",
      "Successfully installed Babel-2.12.1 Flask-Babel-3.1.0 PyMuPDF-1.20.2 PyWavelets-1.4.1 aiohttp-3.8.4 aiosignal-1.3.1 async-timeout-4.0.2 attrdict-2.0.1 bce-python-sdk-0.8.83 bcrypt-4.0.1 brotli-1.0.9 cachetools-5.3.0 cssselect-1.2.0 cssutils-2.6.0 cython-0.29.34 et-xmlfile-1.1.0 fastapi-0.95.2 ffmpy-0.3.0 fire-0.5.0 frozenlist-1.3.3 fsspec-2023.5.0 future-0.18.3 gevent-22.10.2 geventhttpclient-2.0.2 gradio-3.11.0 greenlet-2.0.2 grpcio-1.54.2 h11-0.12.0 httpcore-0.15.0 httpx-0.24.1 imgaug-0.4.0 lazy-loader-0.2 linkify-it-py-2.0.2 lmdb-1.4.1 markdown-it-py-2.2.0 mdit-py-plugins-0.3.5 mdurl-0.1.2 multidict-6.0.4 onnx-1.14.0 opencv-contrib-python-4.6.0.66 opencv-python-4.6.0.66 openpyxl-3.1.2 orjson-3.8.13 paddle2onnx-1.0.6 paddleocr-2.6.1.3 paramiko-3.1.0 pdf2docx-0.5.6 premailer-3.10.0 protobuf-3.20.3 pyclipper-1.3.0.post4 pycryptodome-3.18.0 pydantic-1.10.8 pydub-0.25.1 pynacl-1.5.0 python-docx-0.8.11 python-multipart-0.0.6 python-rapidjson-1.10 pytz-2023.3 rapidfuzz-3.0.0 rarfile-4.0 scikit-image-0.20.0 scipy-1.9.1 shapely-2.0.1 starlette-0.27.0 termcolor-2.3.0 tifffile-2023.4.12 tritonclient-2.33.0 uc-micro-py-1.0.2 uvicorn-0.22.0 visualdl-2.5.2 websockets-11.0.3 x2paddle-1.4.1 yarl-1.9.2 zope.event-4.6 zope.interface-6.0\n"
     ]
    },
    {
     "name": "stderr",
     "output_type": "stream",
     "text": [
      "ERROR: pip's dependency resolver does not currently take into account all the packages that are installed. This behaviour is the source of the following dependency conflicts.\n",
      "paddlepaddle 2.4.2 requires protobuf<=3.20.0,>=3.1.0, but you have protobuf 3.20.3 which is incompatible.\n"
     ]
    }
   ],
   "source": [
    "!pip install \"paddleocr>=2.0.1\""
   ]
  },
  {
   "cell_type": "code",
   "execution_count": 3,
   "id": "37b2b853",
   "metadata": {},
   "outputs": [
    {
     "name": "stderr",
     "output_type": "stream",
     "text": [
      "Cloning into 'PaddleOCR'...\n",
      "Updating files:  39% (639/1620)\n",
      "Updating files:  40% (648/1620)\n",
      "Updating files:  41% (665/1620)\n",
      "Updating files:  42% (681/1620)\n",
      "Updating files:  43% (697/1620)\n",
      "Updating files:  44% (713/1620)\n",
      "Updating files:  45% (729/1620)\n",
      "Updating files:  46% (746/1620)\n",
      "Updating files:  46% (761/1620)\n",
      "Updating files:  47% (762/1620)\n",
      "Updating files:  48% (778/1620)\n",
      "Updating files:  49% (794/1620)\n",
      "Updating files:  49% (803/1620)\n",
      "Updating files:  50% (810/1620)\n",
      "Updating files:  51% (827/1620)\n",
      "Updating files:  52% (843/1620)\n",
      "Updating files:  53% (859/1620)\n",
      "Updating files:  54% (875/1620)\n",
      "Updating files:  55% (891/1620)\n",
      "Updating files:  56% (908/1620)\n",
      "Updating files:  57% (924/1620)\n",
      "Updating files:  58% (940/1620)\n",
      "Updating files:  59% (956/1620)\n",
      "Updating files:  60% (972/1620)\n",
      "Updating files:  61% (989/1620)\n",
      "Updating files:  62% (1005/1620)\n",
      "Updating files:  63% (1021/1620)\n",
      "Updating files:  64% (1037/1620)\n",
      "Updating files:  65% (1053/1620)\n",
      "Updating files:  66% (1070/1620)\n",
      "Updating files:  67% (1086/1620)\n",
      "Updating files:  68% (1102/1620)\n",
      "Updating files:  69% (1118/1620)\n",
      "Updating files:  70% (1134/1620)\n",
      "Updating files:  71% (1151/1620)\n",
      "Updating files:  72% (1167/1620)\n",
      "Updating files:  73% (1183/1620)\n",
      "Updating files:  74% (1199/1620)\n",
      "Updating files:  75% (1215/1620)\n",
      "Updating files:  76% (1232/1620)\n",
      "Updating files:  76% (1244/1620)\n",
      "Updating files:  77% (1248/1620)\n",
      "Updating files:  78% (1264/1620)\n",
      "Updating files:  79% (1280/1620)\n",
      "Updating files:  80% (1296/1620)\n",
      "Updating files:  81% (1313/1620)\n",
      "Updating files:  82% (1329/1620)\n",
      "Updating files:  83% (1345/1620)\n",
      "Updating files:  84% (1361/1620)\n",
      "Updating files:  85% (1377/1620)\n",
      "Updating files:  86% (1394/1620)\n",
      "Updating files:  87% (1410/1620)\n",
      "Updating files:  88% (1426/1620)\n",
      "Updating files:  89% (1442/1620)\n",
      "Updating files:  90% (1458/1620)\n",
      "Updating files:  91% (1475/1620)\n",
      "Updating files:  92% (1491/1620)\n",
      "Updating files:  93% (1507/1620)\n",
      "Updating files:  94% (1523/1620)\n",
      "Updating files:  95% (1539/1620)\n",
      "Updating files:  96% (1556/1620)\n",
      "Updating files:  97% (1572/1620)\n",
      "Updating files:  98% (1588/1620)\n",
      "Updating files:  99% (1604/1620)\n",
      "Updating files: 100% (1620/1620)\n",
      "Updating files: 100% (1620/1620), done.\n"
     ]
    }
   ],
   "source": [
    "!git clone https://github.com/PaddlePaddle/PaddleOCR.git"
   ]
  },
  {
   "cell_type": "code",
   "execution_count": 9,
   "id": "2b22a654",
   "metadata": {},
   "outputs": [],
   "source": [
    "# Import libs\n",
    "from paddleocr import PaddleOCR, draw_ocr\n",
    "import paddleocr\n",
    "import matplotlib.pyplot as plt\n",
    "import cv2\n",
    "import os\n",
    "from PIL import Image"
   ]
  },
  {
   "cell_type": "code",
   "execution_count": 20,
   "id": "c0f7bdf5",
   "metadata": {},
   "outputs": [
    {
     "name": "stdout",
     "output_type": "stream",
     "text": [
      "download https://paddleocr.bj.bcebos.com/PP-OCRv3/multilingual/latin_PP-OCRv3_rec_infer.tar to C:\\Users\\hoang/.paddleocr/whl\\rec\\latin\\latin_PP-OCRv3_rec_infer\\latin_PP-OCRv3_rec_infer.tar\n"
     ]
    },
    {
     "name": "stderr",
     "output_type": "stream",
     "text": [
      "100%|████████████████████████████████████████████████████████████████████████████| 10.2M/10.2M [00:01<00:00, 6.93MiB/s]"
     ]
    },
    {
     "name": "stdout",
     "output_type": "stream",
     "text": [
      "[2023/05/25 09:01:46] ppocr DEBUG: Namespace(help='==SUPPRESS==', use_gpu=False, use_xpu=False, use_npu=False, ir_optim=True, use_tensorrt=False, min_subgraph_size=15, precision='fp32', gpu_mem=500, image_dir=None, page_num=0, det_algorithm='DB', det_model_dir='C:\\\\Users\\\\hoang/.paddleocr/whl\\\\det\\\\en\\\\en_PP-OCRv3_det_infer', det_limit_side_len=960, det_limit_type='max', det_box_type='quad', det_db_thresh=0.3, det_db_box_thresh=0.6, det_db_unclip_ratio=1.5, max_batch_size=10, use_dilation=False, det_db_score_mode='fast', det_east_score_thresh=0.8, det_east_cover_thresh=0.1, det_east_nms_thresh=0.2, det_sast_score_thresh=0.5, det_sast_nms_thresh=0.2, det_pse_thresh=0, det_pse_box_thresh=0.85, det_pse_min_area=16, det_pse_scale=1, scales=[8, 16, 32], alpha=1.0, beta=1.0, fourier_degree=5, rec_algorithm='SVTR_LCNet', rec_model_dir='C:\\\\Users\\\\hoang/.paddleocr/whl\\\\rec\\\\latin\\\\latin_PP-OCRv3_rec_infer', rec_image_inverse=True, rec_image_shape='3, 48, 320', rec_batch_num=6, max_text_length=25, rec_char_dict_path='C:\\\\Users\\\\hoang\\\\miniconda3\\\\lib\\\\site-packages\\\\paddleocr\\\\ppocr\\\\utils\\\\dict\\\\latin_dict.txt', use_space_char=True, vis_font_path='./doc/fonts/simfang.ttf', drop_score=0.5, e2e_algorithm='PGNet', e2e_model_dir=None, e2e_limit_side_len=768, e2e_limit_type='max', e2e_pgnet_score_thresh=0.5, e2e_char_dict_path='./ppocr/utils/ic15_dict.txt', e2e_pgnet_valid_set='totaltext', e2e_pgnet_mode='fast', use_angle_cls=False, cls_model_dir='C:\\\\Users\\\\hoang/.paddleocr/whl\\\\cls\\\\ch_ppocr_mobile_v2.0_cls_infer', cls_image_shape='3, 48, 192', label_list=['0', '180'], cls_batch_num=6, cls_thresh=0.9, enable_mkldnn=False, cpu_threads=10, use_pdserving=False, warmup=False, sr_model_dir=None, sr_image_shape='3, 32, 128', sr_batch_num=1, draw_img_save_dir='./inference_results', save_crop_res=False, crop_res_save_dir='./output', use_mp=False, total_process_num=1, process_id=0, benchmark=False, save_log_path='./log_output/', show_log=True, use_onnx=False, output='./output', table_max_len=488, table_algorithm='TableAttn', table_model_dir=None, merge_no_span_structure=True, table_char_dict_path=None, layout_model_dir=None, layout_dict_path=None, layout_score_threshold=0.5, layout_nms_threshold=0.5, kie_algorithm='LayoutXLM', ser_model_dir=None, re_model_dir=None, use_visual_backbone=True, ser_dict_path='../train_data/XFUND/class_list_xfun.txt', ocr_order_method=None, mode='structure', image_orientation=False, layout=True, table=True, ocr=True, recovery=False, use_pdf2docx_api=False, lang='vi', det=True, rec=True, type='ocr', ocr_version='PP-OCRv3', structure_version='PP-StructureV2')\n"
     ]
    },
    {
     "name": "stderr",
     "output_type": "stream",
     "text": [
      "\n"
     ]
    }
   ],
   "source": [
    "model = PaddleOCR(lang=\"vi\")"
   ]
  },
  {
   "cell_type": "code",
   "execution_count": 3,
   "id": "ac3aadc2",
   "metadata": {},
   "outputs": [],
   "source": [
    "from pathlib import Path"
   ]
  },
  {
   "cell_type": "code",
   "execution_count": 21,
   "id": "66e7eda1",
   "metadata": {},
   "outputs": [],
   "source": [
    "new_path = \"../data/vietnamese/train_images/im0002.jpg\""
   ]
  },
  {
   "cell_type": "code",
   "execution_count": 5,
   "id": "2b3eb70b",
   "metadata": {},
   "outputs": [
    {
     "name": "stdout",
     "output_type": "stream",
     "text": [
      " Volume in drive E has no label.\n",
      " Volume Serial Number is 2E51-F250\n",
      "\n",
      " Directory of E:\\Good for career\\CurrentProjects\\MyDocumentOCR\\MyDocumentOCRProject\\notebooks\n",
      "\n",
      "05/25/2023  08:36 AM    <DIR>          .\n",
      "05/25/2023  08:36 AM    <DIR>          ..\n",
      "05/25/2023  08:08 AM    <DIR>          .ipynb_checkpoints\n",
      "05/25/2023  08:24 AM    <DIR>          PaddleOCR\n",
      "05/25/2023  08:36 AM            40,228 PaddleOCR.ipynb\n",
      "               1 File(s)         40,228 bytes\n",
      "               4 Dir(s)  305,988,612,096 bytes free\n"
     ]
    }
   ],
   "source": [
    "!dir"
   ]
  },
  {
   "cell_type": "code",
   "execution_count": 22,
   "id": "2df6c529",
   "metadata": {},
   "outputs": [
    {
     "name": "stdout",
     "output_type": "stream",
     "text": [
      "[2023/05/25 09:01:52] ppocr WARNING: Since the angle classifier is not initialized, the angle classifier will not be uesd during the forward process\n",
      "[2023/05/25 09:01:52] ppocr DEBUG: dt_boxes num : 5, elapse : 0.4700748920440674\n",
      "[2023/05/25 09:01:53] ppocr DEBUG: rec_res num  : 5, elapse : 1.1405088901519775\n"
     ]
    }
   ],
   "source": [
    "result = model.ocr(new_path)"
   ]
  },
  {
   "cell_type": "code",
   "execution_count": 23,
   "id": "5e4c28e1",
   "metadata": {},
   "outputs": [],
   "source": [
    "result = result[0]"
   ]
  },
  {
   "cell_type": "code",
   "execution_count": 24,
   "id": "3febe1f1",
   "metadata": {},
   "outputs": [],
   "source": [
    "# visualize\n",
    "boxes = [res[0] for res in result]\n",
    "texts = [res[1][0] for res in result]\n",
    "scores = [res[1][1] for res in result]\n",
    "\n",
    "font_path = \"PaddleOCR/doc/fonts/latin.ttf\"\n",
    "\n",
    "image = cv2.imread(new_path)\n",
    "image = cv2.cvtColor(image, cv2.COLOR_BGR2GRAY)\n"
   ]
  },
  {
   "cell_type": "code",
   "execution_count": 35,
   "id": "a4581c53",
   "metadata": {},
   "outputs": [
    {
     "data": {
      "text/plain": [
       "['CONG TRUONG AN TOAN GIAO THONG',\n",
       " 'Düng lai quan sät',\n",
       " 'truóc khi qua duong',\n",
       " 'VIe',\n",
       " 'Ch']"
      ]
     },
     "execution_count": 35,
     "metadata": {},
     "output_type": "execute_result"
    }
   ],
   "source": [
    "texts"
   ]
  },
  {
   "cell_type": "code",
   "execution_count": 26,
   "id": "330b9a6c",
   "metadata": {},
   "outputs": [],
   "source": [
    "import numpy as np"
   ]
  },
  {
   "cell_type": "code",
   "execution_count": 27,
   "id": "096f3861",
   "metadata": {},
   "outputs": [
    {
     "name": "stdout",
     "output_type": "stream",
     "text": [
      "(4, 2)\n"
     ]
    }
   ],
   "source": [
    "print(np.array(boxes[0]).shape)"
   ]
  },
  {
   "cell_type": "code",
   "execution_count": 28,
   "id": "11e4e09c",
   "metadata": {},
   "outputs": [],
   "source": [
    "image = Image.open(new_path).convert('RGB')"
   ]
  },
  {
   "cell_type": "code",
   "execution_count": 33,
   "id": "e9fdb583",
   "metadata": {},
   "outputs": [],
   "source": [
    "annotations = im_show = draw_ocr(image, boxes, texts, scores, font_path='PaddleOCR/doc/fonts/VTIMESI.TTF')"
   ]
  },
  {
   "cell_type": "code",
   "execution_count": 34,
   "id": "b2dca479",
   "metadata": {},
   "outputs": [],
   "source": [
    "im_show = Image.fromarray(im_show)\n",
    "im_show.save('result.jpg')"
   ]
  },
  {
   "cell_type": "code",
   "execution_count": null,
   "id": "018390b5",
   "metadata": {},
   "outputs": [],
   "source": []
  }
 ],
 "metadata": {
  "kernelspec": {
   "display_name": "Python 3 (ipykernel)",
   "language": "python",
   "name": "python3"
  },
  "language_info": {
   "codemirror_mode": {
    "name": "ipython",
    "version": 3
   },
   "file_extension": ".py",
   "mimetype": "text/x-python",
   "name": "python",
   "nbconvert_exporter": "python",
   "pygments_lexer": "ipython3",
   "version": "3.9.12"
  }
 },
 "nbformat": 4,
 "nbformat_minor": 5
}
